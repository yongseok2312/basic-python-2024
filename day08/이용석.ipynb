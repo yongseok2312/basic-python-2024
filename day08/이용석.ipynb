{
 "cells": [
  {
   "cell_type": "markdown",
   "metadata": {},
   "source": [
    "### 1번 문제"
   ]
  },
  {
   "cell_type": "code",
   "execution_count": 28,
   "metadata": {},
   "outputs": [
    {
     "name": "stdout",
     "output_type": "stream",
     "text": [
      "원의 넓이는 78.53981633974483 입니다.\n"
     ]
    }
   ],
   "source": [
    "# 1번 문제\n",
    "import math\n",
    "r = float(input('원의 반지름을 입력하세요> '))\n",
    "print(f'원의 넓이는 {math.pi * r * r} 입니다.')"
   ]
  },
  {
   "cell_type": "markdown",
   "metadata": {},
   "source": [
    "### 2번 문제"
   ]
  },
  {
   "cell_type": "code",
   "execution_count": null,
   "metadata": {},
   "outputs": [
    {
     "name": "stdout",
     "output_type": "stream",
     "text": [
      "지구\n"
     ]
    }
   ],
   "source": [
    "# 2번 문제\n",
    "name = input('행성을 영어 이름을 입력하세요 > ').title()\n",
    "a = {'Mercury':'수성', 'Venus': '금성', 'Earth' : '지구', 'Mars' : '화성', 'Jupiter' : '목성', 'Saturn' : '토성' , 'Uranus' : '천왕성', 'Neptune' : '해왕성'}\n",
    "print(a[name])"
   ]
  },
  {
   "cell_type": "markdown",
   "metadata": {},
   "source": [
    "### 3번 문제"
   ]
  },
  {
   "cell_type": "code",
   "execution_count": 14,
   "metadata": {},
   "outputs": [
    {
     "name": "stdout",
     "output_type": "stream",
     "text": [
      " 단어의 수는 8개 입니다.\n",
      "OPEN open OPEN open OPEN open OPEN open "
     ]
    }
   ],
   "source": [
    "# 3번 문제\n",
    "a = input('문장을 적으시오 > ').split(' ')\n",
    "# print(input('문장을 적으시오 > '))\n",
    "print(f' 단어의 수는 {len(a)}개 입니다.')\n",
    "c =int(len(a))\n",
    "\n",
    "b=''\n",
    "i=0\n",
    "\n",
    "for b in a:\n",
    "    if i % 2 == 0:\n",
    "        b = b.upper()\n",
    "    else:\n",
    "        b = b.lower()\n",
    "    i += 1 to \n",
    "    \n",
    "        \n",
    "    print(b,end = ' ')\n",
    "\n",
    "# for b in a:\n",
    "#     for i in range(0,c)\n",
    "        \n",
    "\n"
   ]
  },
  {
   "cell_type": "markdown",
   "metadata": {},
   "source": [
    "### 4번 문제"
   ]
  },
  {
   "cell_type": "code",
   "execution_count": null,
   "metadata": {},
   "outputs": [
    {
     "name": "stdout",
     "output_type": "stream",
     "text": [
      "원의 넓이는 78.53981633974483 입니다.\n"
     ]
    }
   ],
   "source": [
    "# 1번 문제\n",
    "import math\n",
    "r = float(input('원의 반지름을 입력하세요> '))\n",
    "print(f'원의 넓이는 {math.pi * r * r} 입니다.')"
   ]
  },
  {
   "cell_type": "code",
   "execution_count": 26,
   "metadata": {},
   "outputs": [
    {
     "name": "stdout",
     "output_type": "stream",
     "text": [
      "www.google.com\n"
     ]
    }
   ],
   "source": [
    "# 4번 문제\n",
    "def get_url():\n",
    "    a = input('영문 주소를 입력하세요 > ').lower()\n",
    "    url = f'www.{a}.com'\n",
    "    return url\n",
    "print(get_url()) \n"
   ]
  },
  {
   "cell_type": "markdown",
   "metadata": {},
   "source": [
    "### 5번 문제"
   ]
  },
  {
   "cell_type": "code",
   "execution_count": null,
   "metadata": {},
   "outputs": [
    {
     "name": "stdout",
     "output_type": "stream",
     "text": [
      "5 10 15 20 25 30 35 40 45 "
     ]
    }
   ],
   "source": [
    "# 5번 문제\n",
    "i = int(input('궁금한 구구단의 단을 입력하세요 > '))\n",
    "for j in range(1,10):\n",
    "    print(f'{i * j}', end = ' ')"
   ]
  },
  {
   "cell_type": "code",
   "execution_count": null,
   "metadata": {},
   "outputs": [],
   "source": []
  }
 ],
 "metadata": {
  "kernelspec": {
   "display_name": "Python 3",
   "language": "python",
   "name": "python3"
  },
  "language_info": {
   "codemirror_mode": {
    "name": "ipython",
    "version": 3
   },
   "file_extension": ".py",
   "mimetype": "text/x-python",
   "name": "python",
   "nbconvert_exporter": "python",
   "pygments_lexer": "ipython3",
   "version": "3.11.5"
  }
 },
 "nbformat": 4,
 "nbformat_minor": 2
}
