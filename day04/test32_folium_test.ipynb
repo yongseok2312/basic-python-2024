{
 "cells": [
  {
   "cell_type": "markdown",
   "metadata": {},
   "source": [
    "### folium 지도 라이브러리\n",
    "\n",
    "### 라이브러리(모듈) 설치\n",
    "``` python\n",
    "!pip install folium\n",
    "```"
   ]
  },
  {
   "cell_type": "code",
   "execution_count": null,
   "metadata": {},
   "outputs": [],
   "source": [
    "# file: test32_folium_test.ipynb\n",
    "# desc: 지도 라이브러리 사용\n",
    "\n",
    "!pip install folium"
   ]
  }
 ],
 "metadata": {
  "kernelspec": {
   "display_name": "Python 3",
   "language": "python",
   "name": "python3"
  },
  "language_info": {
   "name": "python",
   "version": "3.11.5"
  }
 },
 "nbformat": 4,
 "nbformat_minor": 2
}
