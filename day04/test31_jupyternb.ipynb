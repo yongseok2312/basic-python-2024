{
 "cells": [
  {
   "cell_type": "markdown",
   "metadata": {},
   "source": [
    "# 주피터 노트북\n",
    "## 주피터 노트북 개요\n",
    "주피터 노트북(Jupyter Notebook)에 대한 학습\n",
    "\n",
    "### Jupyter Notebook 이란?\n",
    "- 2015년 주피터 재단에서 만든 오픈소스 과학연구 목적 개발 플랫폼\n",
    "- https://Jupyter.org/\n"
   ]
  },
  {
   "cell_type": "markdown",
   "metadata": {},
   "source": [
    "### Jupyter Notebook 시작\n",
    "- VS code > 보기 > 명령팔레트...(ctrl + shift + P) tlwkr\n",
    "- create: 새 주피터 노트북 클릭\n",
    "- untilted-1.ipynb를 저장"
   ]
  },
  {
   "cell_type": "markdown",
   "metadata": {},
   "source": [
    "### 주피터 노트북 영역\n",
    "- 코드 : 파이썬 등 소스코드 작성, 실행 공간\n",
    "- 마크다운 : 마크다운 설명 작성 공간"
   ]
  },
  {
   "cell_type": "markdown",
   "metadata": {},
   "source": [
    "#### 출력 \n",
    "- Ctrl + F5 실행은 안함 (터미널 사용하지 않음)\n",
    "- print() 함수는 옵션(단 노트북에서만 허용. .py에서는 반드시 print()사용)"
   ]
  },
  {
   "cell_type": "markdown",
   "metadata": {},
   "source": [
    "### 주피터 노트북 단축키\n",
    "- 셀 선택모드\n",
    "    - b: 아래에 새로운 셀 추가\n",
    "    - m: 마크다운 셀로 변경\n",
    "    - y: 코드 셀로 변경\n",
    "    - Shift + L : 셀에 라인번호 토글\n",
    "    - Enter: 코드입력모드로 진입\n",
    "    \n",
    "- 코드 입력모드\n",
    "    - Ctrl + Alt + Enter: 마크다운셀은 종료, 코드셀 실행\n",
    "    - Shift + Enter: 현재셀 닫고, 아래 새 셀을 생성\n",
    "    - Ctrl + /:주석처리\n"
   ]
  },
  {
   "cell_type": "markdown",
   "metadata": {},
   "source": [
    "### 콘솔 실행\n",
    "```shell\n",
    "- !pip install/uninstall lists 패키지명\n",
    "```"
   ]
  },
  {
   "cell_type": "code",
   "execution_count": 6,
   "metadata": {},
   "outputs": [
    {
     "name": "stdout",
     "output_type": "stream",
     "text": [
      "Requirement already satisfied: beautifulsoup4 in c:\\dev\\langs\\python311\\lib\\site-packages (4.12.3)\n",
      "Requirement already satisfied: soupsieve>1.2 in c:\\dev\\langs\\python311\\lib\\site-packages (from beautifulsoup4) (2.5)\n"
     ]
    },
    {
     "name": "stderr",
     "output_type": "stream",
     "text": [
      "\n",
      "[notice] A new release of pip is available: 23.2.1 -> 23.3.2\n",
      "[notice] To update, run: python.exe -m pip install --upgrade pip\n"
     ]
    }
   ],
   "source": [
    "# 파이썬 모듈 설치\n",
    "!pip install beautifulsoup4"
   ]
  },
  {
   "cell_type": "code",
   "execution_count": null,
   "metadata": {},
   "outputs": [],
   "source": [
    "\n"
   ]
  },
  {
   "cell_type": "markdown",
   "metadata": {},
   "source": [
    "### 주피터 노트북 작업방법\n",
    "- 코드셀 분리\n",
    "    - 모듈추가(import) 코드셀 한 곳에 모음\n",
    "    - 로직의 영역별로 코드셀 분리 작업"
   ]
  },
  {
   "cell_type": "markdown",
   "metadata": {},
   "source": [
    "### 파일경로 테스트\n",
    "```python\n",
    "import sys\n",
    "```"
   ]
  },
  {
   "cell_type": "code",
   "execution_count": 7,
   "metadata": {},
   "outputs": [],
   "source": [
    "# 모듈 추가\n",
    "import os\n",
    "import sys"
   ]
  },
  {
   "cell_type": "markdown",
   "metadata": {},
   "source": [
    "실행 경로 확인"
   ]
  },
  {
   "cell_type": "markdown",
   "metadata": {},
   "source": []
  },
  {
   "cell_type": "code",
   "execution_count": 8,
   "metadata": {},
   "outputs": [
    {
     "data": {
      "text/plain": [
       "'c:\\\\DEV\\\\Langs\\\\Python311\\\\python.exe'"
      ]
     },
     "execution_count": 8,
     "metadata": {},
     "output_type": "execute_result"
    }
   ],
   "source": [
    "# 사용중인 파이썬의 실제경로\n",
    "sys.executable"
   ]
  },
  {
   "cell_type": "markdown",
   "metadata": {},
   "source": [
    "### 주피터 노트북의 특징\n",
    "- 코드셀 하나에서는 변수명만 적으면 제일 마지막 값만 출력\n",
    "- 다 출력하고 싶으면 print() 써야함"
   ]
  },
  {
   "cell_type": "code",
   "execution_count": 11,
   "metadata": {},
   "outputs": [
    {
     "data": {
      "text/plain": [
       "sys.flags(debug=0, inspect=0, interactive=0, optimize=0, dont_write_bytecode=0, no_user_site=0, no_site=0, ignore_environment=0, verbose=0, bytes_warning=0, quiet=0, hash_randomization=1, isolated=0, dev_mode=False, utf8_mode=0, warn_default_encoding=0, safe_path=False, int_max_str_digits=-1)"
      ]
     },
     "execution_count": 11,
     "metadata": {},
     "output_type": "execute_result"
    }
   ],
   "source": [
    "sys.executable\n",
    "sys.flags"
   ]
  },
  {
   "cell_type": "markdown",
   "metadata": {},
   "source": [
    "### 디버깅\n",
    "- 중단점은 동일\n",
    "- 디버깅은 Ctrl+Shift+Alt+Enter (F5X)\n",
    "- 디버깅 종료는 코드셀 왼쪽의 네모 아이콘 클릭"
   ]
  }
 ],
 "metadata": {
  "kernelspec": {
   "display_name": "Python 3",
   "language": "python",
   "name": "python3"
  },
  "language_info": {
   "codemirror_mode": {
    "name": "ipython",
    "version": 3
   },
   "file_extension": ".py",
   "mimetype": "text/x-python",
   "name": "python",
   "nbconvert_exporter": "python",
   "pygments_lexer": "ipython3",
   "version": "3.11.5"
  }
 },
 "nbformat": 4,
 "nbformat_minor": 2
}
